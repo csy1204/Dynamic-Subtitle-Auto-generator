{
 "cells": [
  {
   "cell_type": "code",
   "execution_count": 95,
   "metadata": {},
   "outputs": [],
   "source": [
    "import os\n",
    "import json"
   ]
  },
  {
   "cell_type": "code",
   "execution_count": 96,
   "metadata": {},
   "outputs": [
    {
     "name": "stdout",
     "output_type": "stream",
     "text": [
      "[720, 1280, 3]\n"
     ]
    }
   ],
   "source": [
    "with open('response.json','r') as f:\n",
    "    result_js = json.loads(f.read())\n",
    "print(result_js['image_shape'])"
   ]
  },
  {
   "cell_type": "code",
   "execution_count": 98,
   "metadata": {},
   "outputs": [
    {
     "name": "stdout",
     "output_type": "stream",
     "text": [
      "g: 0 / lg: 0 / text: 위크맨\n",
      "g: 0 / lg: 1 / text: LUIU\n",
      "g: 0 / lg: 2 / text: Lala\n",
      "g: 0 / lg: 3 / text: 장성규,\n",
      "g: 0 / lg: 3 / text: 퍼스트브랜드\n",
      "g: 0 / lg: 3 / text: 대상\n",
      "g: 0 / lg: 3 / text: 2관왕\n",
      "g: 0 / lg: 3 / text: \"감개무량...좋은\n",
      "g: 0 / lg: 3 / text: 방송인\n",
      "g: 0 / lg: 3 / text: 될 것\"\n",
      "g: 0 / lg: 4 / text: 장성규,\n",
      "g: 0 / lg: 4 / text: 이노베이션부문\n",
      "g: 0 / lg: 4 / text: 수상\n",
      "g: 0 / lg: 4 / text: (에이어워즈)\n",
      "g: 0 / lg: 5 / text: [MBC\n",
      "g: 0 / lg: 5 / text: 연예대상]\n",
      "g: 0 / lg: 5 / text: 김이나·장성규,\n",
      "g: 0 / lg: 5 / text: 라디오부문\n",
      "g: 0 / lg: 5 / text: 신인상\n",
      "g: 0 / lg: 5 / text: 수상\n",
      "g: 0 / lg: 6 / text: 장성규,\n",
      "g: 0 / lg: 6 / text: 'MBC\n",
      "g: 0 / lg: 6 / text: 방송연예대상'\n",
      "g: 0 / lg: 6 / text: 최초\n",
      "g: 0 / lg: 6 / text: 라디오.\n",
      "g: 0 / lg: 6 / text: 남자\n",
      "g: 0 / lg: 6 / text: 신인상\n",
      "g: 0 / lg: 7 / text: 동시 수상\n",
      "g: 0 / lg: 7 / text: '2관왕'\n",
      "g: 0 / lg: 8 / text: 방송인\n",
      "g: 0 / lg: 8 / text: 장성규,\n",
      "g: 0 / lg: 8 / text: 해양수산부장관\n",
      "g: 0 / lg: 8 / text: 표창\n",
      "g: 0 / lg: 8 / text: 수상\"홍보대사\n",
      "g: 0 / lg: 9 / text: 역할\n",
      "g: 0 / lg: 9 / text: 충실히\n",
      "g: 0 / lg: 9 / text: 할\n",
      "g: 0 / lg: 9 / text: 것\"\n",
      "g: 0 / lg: 10 / text: 내가\n",
      "g: 0 / lg: 10 / text: 트로피를\n",
      "g: 0 / lg: 10 / text: 한 번\n",
      "g: 0 / lg: 10 / text: 모아봤는데\n"
     ]
    }
   ],
   "source": [
    "lines = {}\n",
    "for word in result_js['words']:\n",
    "    print(f\"g: {word['group']} / lg: {word['lineGroup']} / text: {word['text']}\")\n",
    "    if not lines.get(word['lineGroup']):\n",
    "        lines[word['lineGroup']] = [word]\n",
    "        continue\n",
    "    lines[word['lineGroup']].append(word)"
   ]
  },
  {
   "cell_type": "code",
   "execution_count": 99,
   "metadata": {},
   "outputs": [],
   "source": [
    "# [type(w) for w in lines[4]]"
   ]
  },
  {
   "cell_type": "code",
   "execution_count": 100,
   "metadata": {},
   "outputs": [
    {
     "data": {
      "text/plain": [
       "['위크맨',\n",
       " 'LUIU',\n",
       " 'Lala',\n",
       " '장성규, 퍼스트브랜드 대상 2관왕 \"감개무량...좋은 방송인 될 것\"',\n",
       " '장성규, 이노베이션부문 수상 (에이어워즈)',\n",
       " '[MBC 연예대상] 김이나·장성규, 라디오부문 신인상 수상',\n",
       " \"장성규, 'MBC 방송연예대상' 최초 라디오. 남자 신인상\",\n",
       " \"동시 수상 '2관왕'\",\n",
       " '방송인 장성규, 해양수산부장관 표창 수상\"홍보대사',\n",
       " '역할 충실히 할 것\"',\n",
       " '내가 트로피를 한 번 모아봤는데']"
      ]
     },
     "execution_count": 100,
     "metadata": {},
     "output_type": "execute_result"
    }
   ],
   "source": [
    "[' '.join([word['text'] for word in lines[k]]) for k in lines.keys()]"
   ]
  },
  {
   "cell_type": "code",
   "execution_count": null,
   "metadata": {},
   "outputs": [],
   "source": []
  },
  {
   "cell_type": "code",
   "execution_count": null,
   "metadata": {},
   "outputs": [],
   "source": []
  },
  {
   "cell_type": "code",
   "execution_count": null,
   "metadata": {},
   "outputs": [],
   "source": []
  },
  {
   "cell_type": "code",
   "execution_count": 101,
   "metadata": {},
   "outputs": [],
   "source": [
    "import xml.etree.ElementTree as ET"
   ]
  },
  {
   "cell_type": "code",
   "execution_count": 118,
   "metadata": {},
   "outputs": [],
   "source": [
    "ET.register_namespace('','http://www.w3.org/ns/ttml')\n",
    "tree = ET.parse('ttml_base.xml')\n",
    "root = tree.getroot()"
   ]
  },
  {
   "cell_type": "code",
   "execution_count": 119,
   "metadata": {},
   "outputs": [
    {
     "data": {
      "text/plain": [
       "<Element '{http://www.w3.org/ns/ttml}tt' at 0x113cef470>"
      ]
     },
     "execution_count": 119,
     "metadata": {},
     "output_type": "execute_result"
    }
   ],
   "source": [
    "root"
   ]
  },
  {
   "cell_type": "code",
   "execution_count": 122,
   "metadata": {},
   "outputs": [],
   "source": [
    "ET.register_namespace('tts','http://www.w3.org/ns/ttml')\n",
    "stl = ET.Element('styling')\n",
    "# p = ET.Element('p')"
   ]
  },
  {
   "cell_type": "code",
   "execution_count": 123,
   "metadata": {},
   "outputs": [],
   "source": [
    "tt = lambda x: \"{http://www.w3.org/ns/ttml}\" + x"
   ]
  },
  {
   "cell_type": "code",
   "execution_count": 124,
   "metadata": {},
   "outputs": [],
   "source": [
    "head = root.find(tt(\"head\"))"
   ]
  },
  {
   "cell_type": "code",
   "execution_count": 126,
   "metadata": {},
   "outputs": [],
   "source": [
    "head.append(stl)"
   ]
  },
  {
   "cell_type": "code",
   "execution_count": 127,
   "metadata": {},
   "outputs": [
    {
     "name": "stdout",
     "output_type": "stream",
     "text": [
      "<tts:tt xmlns:tts=\"http://www.w3.org/ns/ttml\" xml:lang=\"\">\n",
      "  <tts:head>\n",
      "    <tts:metadata />\n",
      "    <tts:styling />\n",
      "    <tts:layout />\n",
      "  <styling /></tts:head>\n",
      "  <tts:body />\n",
      "</tts:tt>\n"
     ]
    }
   ],
   "source": [
    "ET.dump(root)"
   ]
  },
  {
   "cell_type": "code",
   "execution_count": null,
   "metadata": {},
   "outputs": [],
   "source": []
  },
  {
   "cell_type": "code",
   "execution_count": null,
   "metadata": {},
   "outputs": [],
   "source": []
  },
  {
   "cell_type": "code",
   "execution_count": null,
   "metadata": {},
   "outputs": [],
   "source": []
  },
  {
   "cell_type": "code",
   "execution_count": 105,
   "metadata": {},
   "outputs": [
    {
     "data": {
      "text/plain": [
       "<Element 'p' at 0x1130be710>"
      ]
     },
     "execution_count": 105,
     "metadata": {},
     "output_type": "execute_result"
    }
   ],
   "source": [
    "p"
   ]
  },
  {
   "cell_type": "code",
   "execution_count": null,
   "metadata": {},
   "outputs": [],
   "source": []
  },
  {
   "cell_type": "code",
   "execution_count": null,
   "metadata": {},
   "outputs": [],
   "source": []
  }
 ],
 "metadata": {
  "file_extension": ".py",
  "kernelspec": {
   "display_name": "Python 3.7.4 64-bit ('3.7.4': pyenv)",
   "language": "python",
   "name": "python37464bit374pyenv2985da2533ba409196340da490283bae"
  },
  "language_info": {
   "codemirror_mode": {
    "name": "ipython",
    "version": 3
   },
   "file_extension": ".py",
   "mimetype": "text/x-python",
   "name": "python",
   "nbconvert_exporter": "python",
   "pygments_lexer": "ipython3",
   "version": "3.7.4"
  },
  "mimetype": "text/x-python",
  "name": "python",
  "npconvert_exporter": "python",
  "pygments_lexer": "ipython3",
  "version": 3
 },
 "nbformat": 4,
 "nbformat_minor": 2
}
